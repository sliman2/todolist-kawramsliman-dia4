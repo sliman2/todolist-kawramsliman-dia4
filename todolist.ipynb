{
  "nbformat": 4,
  "nbformat_minor": 0,
  "metadata": {
    "colab": {
      "provenance": []
    },
    "kernelspec": {
      "name": "python3",
      "display_name": "Python 3"
    },
    "language_info": {
      "name": "python"
    }
  },
  "cells": [
    {
      "cell_type": "code",
      "execution_count": null,
      "metadata": {
        "colab": {
          "base_uri": "https://localhost:8080/"
        },
        "id": "3JzScXPp6_VI",
        "outputId": "8612c850-377e-48ff-c011-806a8b248c12"
      },
      "outputs": [
        {
          "output_type": "stream",
          "name": "stdout",
          "text": [
            "\n",
            "Todo List:\n",
            "\n",
            "Options: add, delete, complete, exit\n"
          ]
        }
      ],
      "source": [
        "# todo_list.py\n",
        "\n",
        "class TodoList:\n",
        "    def __init__(self):\n",
        "        self.tasks = []\n",
        "\n",
        "    def add_task(self, task):\n",
        "        self.tasks.append({\"task\": task, \"completed\": False})\n",
        "\n",
        "    def delete_task(self, index):\n",
        "        if index < len(self.tasks):\n",
        "            del self.tasks[index]\n",
        "\n",
        "    def complete_task(self, index):\n",
        "        if index < len(self.tasks):\n",
        "            self.tasks[index][\"completed\"] = True\n",
        "\n",
        "    def display_tasks(self):\n",
        "        for index, item in enumerate(self.tasks):\n",
        "            status = \"Done\" if item[\"completed\"] else \"Not Done\"\n",
        "            print(f\"{index + 1}. {item['task']} - {status}\")\n",
        "\n",
        "def main():\n",
        "    todo_list = TodoList()\n",
        "    while True:\n",
        "        print(\"\\nTodo List:\")\n",
        "        todo_list.display_tasks()\n",
        "        print(\"\\nOptions: add, delete, complete, exit\")\n",
        "        option = input(\"Choose an option: \")\n",
        "        if option == \"add\":\n",
        "            task = input(\"Enter a task: \")\n",
        "            todo_list.add_task(task)\n",
        "        elif option == \"delete\":\n",
        "            index = int(input(\"Enter task number to delete: \")) - 1\n",
        "            todo_list.delete_task(index)\n",
        "        elif option == \"complete\":\n",
        "            index = int(input(\"Enter task number to complete: \")) - 1\n",
        "            todo_list.complete_task(index)\n",
        "        elif option == \"exit\":\n",
        "            break\n",
        "        else:\n",
        "            print(\"Invalid option. Please try again.\")\n",
        "\n",
        "if __name__ == \"__main__\":\n",
        "    main()\n"
      ]
    }
  ]
}